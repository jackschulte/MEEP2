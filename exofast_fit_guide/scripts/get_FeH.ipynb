{
 "cells": [
  {
   "cell_type": "markdown",
   "metadata": {},
   "source": [
    "# Metallicity Prior Generator\n",
    "### Written by Noah Vowell\n",
    "Updated by Jack Schulte on 9/25/23"
   ]
  },
  {
   "cell_type": "code",
   "execution_count": 1,
   "metadata": {},
   "outputs": [],
   "source": [
    "import numpy as np \n",
    "import pandas as pd\n",
    "import astropy.units as u\n",
    "import astropy.constants as const \n",
    "from bs4 import BeautifulSoup as bs\n",
    "import re\n",
    "import requests\n",
    "import scipy.stats as stats"
   ]
  },
  {
   "cell_type": "code",
   "execution_count": 2,
   "metadata": {},
   "outputs": [],
   "source": [
    "def print_prior(TICID, sigma=1):\n",
    "    '''\n",
    "    Generates a metallicity prior from the mean and standard deviation of spectroscopic metallicities available on ExoFOP.\n",
    "\n",
    "    TICID: The object's TESS Input Catalog identifier. Ex: for TIC 81247740, enter '81247740'\n",
    "    sigma: The number of standard deviations that you would like as your prior width.\n",
    "    '''\n",
    "\n",
    "    url = 'https://exofop.ipac.caltech.edu/tess/target.php?id=' + TICID + '&json'\n",
    "    page = requests.get(url)\n",
    "\n",
    "    n_feh = page.json()['stellar_parameters'][4]['prov_num']\n",
    "\n",
    "    feh = []\n",
    "    for i in range(int(n_feh)):\n",
    "        feh.append(float(page.json()['stellar_parameters'][5+i]['met']))\n",
    "    feh = np.array(feh)\n",
    "\n",
    "    print(f'{np.round(feh.mean(), 4)} +/- {np.round(sigma * np.std(feh),4)}')"
   ]
  },
  {
   "cell_type": "code",
   "execution_count": 4,
   "metadata": {},
   "outputs": [
    {
     "name": "stdout",
     "output_type": "stream",
     "text": [
      "0.2513 +/- 0.1557\n"
     ]
    }
   ],
   "source": [
    "print_prior('143526233', sigma=2)"
   ]
  },
  {
   "cell_type": "code",
   "execution_count": 4,
   "metadata": {},
   "outputs": [],
   "source": [
    "def print_prior_fromfile(path, sigma=1):\n",
    "    data = pd.read_csv(path, sep='\\s+', header=0)\n",
    "    for i in range(len(data)):\n",
    "        if ('lsd' in data.method[i]) or ('Cl2.6' in data.method[i]):\n",
    "            data = data.drop(i)\n",
    "\n",
    "    print(f'{np.round(data.mh.mean(), 4)} +/- {np.round(sigma * np.std(data.mh),4)}')"
   ]
  },
  {
   "cell_type": "code",
   "execution_count": 11,
   "metadata": {},
   "outputs": [
    {
     "name": "stdout",
     "output_type": "stream",
     "text": [
      "0.245 +/- 0.3583\n"
     ]
    }
   ],
   "source": [
    "path = '/Users/jack/Research/meep2/fits/toi3720/347051112.spc_table'\n",
    "print_prior_fromfile(path, sigma=2)"
   ]
  },
  {
   "cell_type": "code",
   "execution_count": 13,
   "metadata": {},
   "outputs": [],
   "source": [
    "contam = 0.06116337\n",
    "dilute_sigma = 0.1 * (contam / (1 + contam))"
   ]
  },
  {
   "cell_type": "code",
   "execution_count": 14,
   "metadata": {},
   "outputs": [
    {
     "data": {
      "text/plain": [
       "0.005763803362341842"
      ]
     },
     "execution_count": 14,
     "metadata": {},
     "output_type": "execute_result"
    }
   ],
   "source": [
    "dilute_sigma"
   ]
  },
  {
   "cell_type": "code",
   "execution_count": null,
   "metadata": {},
   "outputs": [],
   "source": []
  }
 ],
 "metadata": {
  "kernelspec": {
   "display_name": "exo",
   "language": "python",
   "name": "python3"
  },
  "language_info": {
   "codemirror_mode": {
    "name": "ipython",
    "version": 3
   },
   "file_extension": ".py",
   "mimetype": "text/x-python",
   "name": "python",
   "nbconvert_exporter": "python",
   "pygments_lexer": "ipython3",
   "version": "3.10.0"
  },
  "orig_nbformat": 4
 },
 "nbformat": 4,
 "nbformat_minor": 2
}
